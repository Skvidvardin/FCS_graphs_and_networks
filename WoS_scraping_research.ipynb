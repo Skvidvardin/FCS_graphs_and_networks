{
 "cells": [
  {
   "cell_type": "markdown",
   "metadata": {},
   "source": [
    "# Packages loading"
   ]
  },
  {
   "cell_type": "code",
   "execution_count": 3,
   "metadata": {},
   "outputs": [],
   "source": [
    "from selenium import webdriver\n",
    "from selenium.webdriver.common.keys import Keys\n",
    "from selenium.webdriver import ActionChains\n",
    "from selenium.webdriver.support.ui import Select\n",
    "from time import sleep \n",
    "import time\n",
    "from bs4 import BeautifulSoup\n",
    "import pandas as pd\n",
    "from tqdm import tqdm\n",
    "import json\n",
    "import random"
   ]
  },
  {
   "cell_type": "markdown",
   "metadata": {},
   "source": [
    "# Scraping first try"
   ]
  },
  {
   "cell_type": "code",
   "execution_count": 2,
   "metadata": {},
   "outputs": [],
   "source": [
    "with open('articles.json') as f:\n",
    "    FINAL  = json.load(f)"
   ]
  },
  {
   "cell_type": "code",
   "execution_count": 3,
   "metadata": {},
   "outputs": [],
   "source": [
    "proxy_list = [\n",
    "    '79.78.184.12:56834',\n",
    "    '196.40.188.137:41423',\n",
    "    '134.196.244.120:46425',\n",
    "    '186.192.49.60:8080',\n",
    "    '103.229.177.51:48072',\n",
    "    '157.230.33.168:3128',\n",
    "    '202.79.48.38:56079',\n",
    "    '128.199.226.214:8080',\n",
    "    '142.93.104.92:8118',\n",
    "    '49.156.42.188:8080',\n",
    "    '66.251.139.85:8080',\n",
    "    '41.90.115.18:61733',\n",
    "    '124.120.129.38:80',\n",
    "    '80.87.217.6:8080',\n",
    "    '122.143.87.23:8080',\n",
    "    '23.239.18.176:3128',\n",
    "    '67.60.137.219:35979',\n",
    "    '35.188.253.121:3128',\n",
    "    '185.20.163.132:8080',\n",
    "    '62.176.27.228:3128',\n",
    "    '97.75.124.126:8080',\n",
    "    '123.231.226.114:47562',\n",
    "    '47.90.200.53:3128',\n",
    "    '202.158.49.140:56687',\n",
    "    '159.65.185.6:8888',\n",
    "    '50.84.27.59:8080',   \n",
    "]"
   ]
  },
  {
   "cell_type": "code",
   "execution_count": 4,
   "metadata": {},
   "outputs": [],
   "source": [
    "def Start(startPage, proxy):\n",
    "    # Открываем браузер, вводим логин и пароль\n",
    "    if proxy != None:\n",
    "        chrome_options = webdriver.ChromeOptions()\n",
    "        chrome_options.add_argument('--proxy-server=%s' % proxy)\n",
    "        driver = webdriver.Chrome(executable_path='/home/skvid/Desktop/сети/project_2/chromedriver', options=chrome_options)\n",
    "    else:\n",
    "        driver = webdriver.Chrome(executable_path='/home/skvid/Desktop/сети/project_2/chromedriver')\n",
    "        \n",
    "    driver.get(\"http://proxylibrary.hse.ru:2048/login?url=http://isiknowledge.com/wos\")\n",
    "    inputElement = driver.find_element_by_xpath(\"/html/body/center/table/tbody/tr/td/div[2]/form/table/tbody/tr[1]/td[2]/input\")\n",
    "    inputElement.send_keys('marishamails@gmail.com')\n",
    "    inputElement = driver.find_element_by_xpath(\"/html/body/center/table/tbody/tr/td/div[2]/form/table/tbody/tr[2]/td[2]/input\")\n",
    "    inputElement.send_keys('QprNf3ncs')\n",
    "    inputElement.submit()\n",
    "    \n",
    "    # в строке поиска вставляем символ/слово и ищем\n",
    "    inputElement = driver.find_element_by_xpath('//*[@id=\"value(input1)\"]')\n",
    "    inputElement.send_keys('a') # вот тут, пишем, что ищем\n",
    "    inputElement.submit()\n",
    "    \n",
    "    # открываем первую ссыллку в строке поиска в новой вкладке и сохраняем url\n",
    "    t = '//*[@id=\"RECORD_1\"]/div[3]/div[1]/div/a/value'\n",
    "    link = driver.find_element_by_xpath(t).click()\n",
    "    driver.find_element_by_xpath('//*[@id=\"hidden_section_label\"]').click() # кликаем на \"show more data\"\n",
    "    url = str(driver.current_url)[:-1]\n",
    "    \n",
    "    startPage = 1000\n",
    "    p = url + str(startPage)\n",
    "    driver.get(p)\n",
    "    \n",
    "    return print(\"Succeed\")"
   ]
  },
  {
   "cell_type": "code",
   "execution_count": 5,
   "metadata": {},
   "outputs": [
    {
     "name": "stdout",
     "output_type": "stream",
     "text": [
      "Succeed\n"
     ]
    }
   ],
   "source": [
    "Start(1000, None)"
   ]
  },
  {
   "cell_type": "code",
   "execution_count": null,
   "metadata": {
    "scrolled": false
   },
   "outputs": [],
   "source": [
    "L = [] #создаем итоговый список\n",
    "# проходим циклом по всем статьям из поиска через url (см. далее)\n",
    "# чтобы добавить другие статьи из поиска, то можно изменить range на другой (статьи добавятся, старые не сотрутся)\n",
    "for page in range(1000, 2000):\n",
    "    try:\n",
    "        d = {} # словарик для каждой статьи\n",
    "\n",
    "        # создаем лист для авторов, куда добавлем всех из описания статьи \n",
    "        # (видимых на странице <= 10, со скрытыми не хотелось мучаться, так что берем только их)\n",
    "        # todo: авторы это линки, по ним можно пройти собрать их\n",
    "        authors = []\n",
    "        for author in range(10):\n",
    "            try:\n",
    "                authors.append(driver.find_element_by_xpath('//*[@id=\"records_form\"]/div/div/div/div[1]/div/div[2]/p/a['+str(author)+']').text)\n",
    "            except:\n",
    "                pass\n",
    "        d['authors'] = authors # лист с авторами сохраняем как value для ключа authors словаря d\n",
    "\n",
    "        # ищем заголовок статьи и также добавляем в словарь\n",
    "        try:\n",
    "            title = driver.find_element_by_xpath('//*[@id=\"records_form\"]/div/div/div/div[1]/div/div[1]/value').text\n",
    "            d['title'] = title\n",
    "        except:\n",
    "            d['title'] = 'NaN'\n",
    "\n",
    "        # ищем дату выпуска статьи (дата статьи в плохом формате, \n",
    "        # так что мб стоит потом пробежаться и поменять или отформатировать тут)\n",
    "        try:\n",
    "            year = driver.find_element_by_xpath('//*[@id=\"records_form\"]/div/div/div/div[1]/div/div[3]/p[2]/value').text\n",
    "            d['year'] = year\n",
    "        except:\n",
    "            d['year'] = 'NaN'\n",
    "\n",
    "        # ищем заголовк журнала и также добавляем в словарь\n",
    "        try:\n",
    "            source = driver.find_element_by_xpath('//*[@id=\"records_form\"]/div/div/div/div[1]/div/div[3]/p[1]/span/value').text\n",
    "            d['source'] = source\n",
    "        except:\n",
    "            d['source'] = 'NaN'\n",
    "\n",
    "        # ищем начальную и конечную страницу в журнле у статьи (например: 342-345) и вычитаем из второй первую\n",
    "        # разницу записываем в словарь\n",
    "        try:\n",
    "            pagesNumber = driver.find_element_by_xpath('//*[@id=\"records_form\"]/div/div/div/div[1]/div/div[3]/div/p[3]/value').text\n",
    "            pages = str(pagesNumber).split(\"-\")\n",
    "            try:\n",
    "                pagesNumber = int(pages[1]) - int(pages[0])\n",
    "            except:\n",
    "                pass\n",
    "            d['pagesNumber'] = pagesNumber\n",
    "        except:\n",
    "            d['pagesNumber'] = 'NaN'\n",
    "\n",
    "        # ищем кол-во цитирований статьи и добавляем в словарь\n",
    "        try:\n",
    "            citationsNumber = driver.find_element_by_xpath('//*[@id=\"sidebar-column1\"]/div/div[3]/div/span').text\n",
    "            d['citationsNumber'] = citationsNumber\n",
    "        except:\n",
    "            d['citationsNumber'] = 'NaN'\n",
    "\n",
    "        # ищем DOI статьи и добавляем в словарь\n",
    "        try:\n",
    "            DOI = driver.find_element_by_xpath('//*[@id=\"records_form\"]/div/div/div/div[1]/div/div[3]/p[2]/value').text\n",
    "            d['DOI'] = DOI\n",
    "        except:\n",
    "            d['DOI'] = 'NaN'\n",
    "\n",
    "        # ищем url статьи и добавляем в словарь\n",
    "        d['link'] = driver.current_url\n",
    "\n",
    "        # ищем абстракт статьи и добавляем в словарь\n",
    "        try:\n",
    "            shortDescription = driver.find_element_by_xpath('//*[@id=\"records_form\"]/div/div/div/div[1]/div/div[4]/p').text\n",
    "            d['shortDescription'] = shortDescription\n",
    "        except:\n",
    "            d['shortDescription'] = 'NaN'\n",
    "\n",
    "        # создаем лист для ключевых слов, куда добавлем их из описания статьи \n",
    "        # (я ограницелся 10тью, так как не видел, чтобы было их больше)\n",
    "        try:\n",
    "            keywords = []\n",
    "            for keyword in range(10):\n",
    "                try:\n",
    "                    keywords.append(driver.find_element_by_xpath('//*[@id=\"records_form\"]/div/div/div/div[1]/div/div[5]/p[1]/a['+str(keyword)+']').text)\n",
    "                except:\n",
    "                    pass\n",
    "            d['keywords'] = keywords # лист с ключевыми словами сохраняем как value для ключа keywords словаря d\n",
    "        except:\n",
    "            d['keywords'] = 'NaN'\n",
    "\n",
    "        # ищем язык статьи из \"show more data\" и добавляем в словарь\n",
    "        try:\n",
    "            documentLang = driver.find_element_by_xpath('//*[@id=\"hidden_section\"]/div[1]/p[1]').text\n",
    "            d['documentLang'] = str(documentLang)[9:]\n",
    "        except:\n",
    "            d['documentLang'] = 'NaN'\n",
    "\n",
    "        # ищем паблищера и добавляем в словарь\n",
    "        try:\n",
    "            publisher = driver.find_element_by_xpath('//*[@id=\"records_form\"]/div/div/div/div[1]/div/div[3]/p[1]/span/value').text\n",
    "            d['publisher'] = publisher\n",
    "        except:\n",
    "            d['publisher'] = 'NaN'\n",
    "\n",
    "        # ищем конференцию (если есть) и в словарик conference добавлем title и date\n",
    "        try:\n",
    "            conference = {}\n",
    "            conference_title = driver.find_element_by_xpath('/html/body/div[1]/div[26]/form[3]/div/div/div/div[1]/div/div[4]/p[1]/value').text\n",
    "            conference_date = driver.find_element_by_xpath('/html/body/div[1]/div[26]/form[3]/div/div/div/div[1]/div/div[4]/p[3]/value').text\n",
    "            conference['title'] = conference_title\n",
    "            conference['date'] = conference_date\n",
    "            d['conference'] = conference #сам словарик conference передаем как value к ключу conference словаря d\n",
    "        except:\n",
    "            d['conference'] = 'NaN'\n",
    "\n",
    "        # создаем лист для ссылок на другие сатьи\n",
    "        # (я ограницелся 30тью, так как для большего кол-ва нужно обходить доп. страницу и делать доп. проверку)\n",
    "        workLinks = []\n",
    "        for workLink in range(30):\n",
    "            try:\n",
    "                workLinks.append(driver.find_element_by_xpath('/html/body/div[1]/div[28]/div[2]/div['+str(workLink)+']/a/span/value').text)\n",
    "            except:\n",
    "                pass\n",
    "        d['workLinks'] = workLinks\n",
    "\n",
    "        L.append(d) # добавляем словарь d как элемент в итоговый лист L\n",
    "        print(page, 'is OK')\n",
    "        driver.find_element_by_xpath('//*[@id=\"paginationForm\"]/span/a[2]').click()\n",
    "        \n",
    "    except Exception as e:\n",
    "        a = 'bad'\n",
    "        while a!='good':\n",
    "            try:\n",
    "                proxy = random.choice(proxy_list)\n",
    "                print(\"type error: \" + str(e))\n",
    "                driver.quit()\n",
    "                Start(page, proxy)\n",
    "                a ='good'\n",
    "            except:\n",
    "                pass"
   ]
  },
  {
   "cell_type": "code",
   "execution_count": null,
   "metadata": {},
   "outputs": [],
   "source": [
    "FINAL.extend(L)"
   ]
  },
  {
   "cell_type": "code",
   "execution_count": null,
   "metadata": {},
   "outputs": [],
   "source": [
    "with open('articles.json', 'w') as f:\n",
    "    json.dump(FINAL, f)"
   ]
  },
  {
   "cell_type": "code",
   "execution_count": null,
   "metadata": {},
   "outputs": [],
   "source": [
    "driver.close()"
   ]
  },
  {
   "cell_type": "code",
   "execution_count": null,
   "metadata": {},
   "outputs": [],
   "source": [
    "FINAL"
   ]
  },
  {
   "cell_type": "markdown",
   "metadata": {},
   "source": [
    "# Scraping second try"
   ]
  },
  {
   "cell_type": "code",
   "execution_count": 54,
   "metadata": {},
   "outputs": [],
   "source": [
    "driver = webdriver.Chrome(executable_path='/home/skvid/Desktop/сети/project_2/chromedriver')\n",
    "driver.get(\"http://proxylibrary.hse.ru:2048/login?url=http://isiknowledge.com/wos\")"
   ]
  },
  {
   "cell_type": "code",
   "execution_count": 55,
   "metadata": {},
   "outputs": [],
   "source": [
    "def start(driver):\n",
    "    # Открываем браузер, вводим логин и пароль\n",
    "    inputElement = driver.find_element_by_xpath(\"/html/body/center/table/tbody/tr/td/div[2]/form/table/tbody/tr[1]/td[2]/input\")\n",
    "    inputElement.send_keys('marishamails@gmail.com')\n",
    "    inputElement = driver.find_element_by_xpath(\"/html/body/center/table/tbody/tr/td/div[2]/form/table/tbody/tr[2]/td[2]/input\")\n",
    "    inputElement.send_keys('QprNf3ncs')\n",
    "    inputElement.submit()\n",
    "    \n",
    "    # в строке поиска вставляем символ/слово и ищем\n",
    "    inputElement = driver.find_element_by_xpath('//*[@id=\"value(input1)\"]')\n",
    "    inputElement.send_keys('c') # вот тут, пишем, что ищем\n",
    "    inputElement.submit()\n",
    "    \n",
    "    return print(\"Succeed\")"
   ]
  },
  {
   "cell_type": "code",
   "execution_count": 56,
   "metadata": {},
   "outputs": [
    {
     "name": "stdout",
     "output_type": "stream",
     "text": [
      "Succeed\n"
     ]
    }
   ],
   "source": [
    "start(driver)"
   ]
  },
  {
   "cell_type": "code",
   "execution_count": 57,
   "metadata": {},
   "outputs": [],
   "source": [
    "def fileLoader(driver, startPage):\n",
    "    \n",
    "    endPage = startPage + 499\n",
    "    \n",
    "    driver.find_element_by_xpath('//*[@id=\"exportTypeName\"]').click()\n",
    "    try:\n",
    "        driver.find_element_by_xpath('//*[@id=\"saveToMenu\"]/li[3]/a').click()\n",
    "    except:\n",
    "        pass\n",
    "    driver.find_element_by_xpath('//*[@id=\"numberOfRecordsRange\"]').click()\n",
    "    \n",
    "    input1 = driver.find_element_by_xpath('//*[@id=\"markFrom\"]').clear()\n",
    "    input2 = driver.find_element_by_xpath('//*[@id=\"markTo\"]').clear()\n",
    "    \n",
    "    input1 = driver.find_element_by_xpath('//*[@id=\"markFrom\"]')\n",
    "    input2 = driver.find_element_by_xpath('//*[@id=\"markTo\"]')\n",
    "    \n",
    "    input1.send_keys(str(startPage))\n",
    "    input2.send_keys(str(endPage))\n",
    "      \n",
    "    driver.find_element_by_xpath('//*[@id=\"select2-saveOptions-container\"]').click()\n",
    "    driver.find_element_by_xpath(\"//li[contains(text(),'HTML')]\").click()\n",
    "    \n",
    "    driver.find_element_by_xpath('//*[@id=\"select2-bib_fields-container\"]').click()\n",
    "    driver.find_element_by_xpath(\"//li[contains(text(),'Full Record and Cited References')]\").click()\n",
    "    \n",
    "    driver.find_element_by_xpath('//*[@id=\"exportButton\"]').click()\n",
    "    \n",
    "    return print(startPage, endPage, 'done')"
   ]
  },
  {
   "cell_type": "code",
   "execution_count": 58,
   "metadata": {},
   "outputs": [
    {
     "name": "stdout",
     "output_type": "stream",
     "text": [
      "1 500 done\n"
     ]
    }
   ],
   "source": [
    "fileLoader(driver, 1)"
   ]
  },
  {
   "cell_type": "code",
   "execution_count": 59,
   "metadata": {},
   "outputs": [
    {
     "name": "stdout",
     "output_type": "stream",
     "text": [
      "90001 90500 done\n",
      "90501 91000 done\n",
      "91001 91500 done\n",
      "91501 92000 done\n",
      "92001 92500 done\n",
      "92501 93000 done\n",
      "93001 93500 done\n",
      "93501 94000 done\n",
      "94001 94500 done\n",
      "94501 95000 done\n",
      "95001 95500 done\n",
      "95501 96000 done\n",
      "96001 96500 done\n",
      "96501 97000 done\n",
      "97001 97500 done\n",
      "97501 98000 done\n",
      "98001 98500 done\n",
      "98501 99000 done\n",
      "99001 99500 done\n",
      "99501 100000 done\n"
     ]
    }
   ],
   "source": [
    "for i in range(180, 200):\n",
    "    driver.refresh()\n",
    "    fileLoader(driver, i*500+1)\n",
    "    sleep(10)"
   ]
  },
  {
   "cell_type": "markdown",
   "metadata": {},
   "source": [
    "# Journals scraping try"
   ]
  },
  {
   "cell_type": "code",
   "execution_count": 4,
   "metadata": {},
   "outputs": [],
   "source": [
    "driver = webdriver.Chrome(executable_path='/home/skvid/Desktop/networks/project_2/chromedriver')\n",
    "driver.get(\"https://proxylibrary.hse.ru:3812/JCRJournalHomeAction.action\")"
   ]
  },
  {
   "cell_type": "code",
   "execution_count": 5,
   "metadata": {},
   "outputs": [],
   "source": [
    "# Открываем браузер, вводим логин и пароль\n",
    "inputElement = driver.find_element_by_xpath(\"/html/body/center/table/tbody/tr/td/div[2]/form/table/tbody/tr[1]/td[2]/input\")\n",
    "inputElement.send_keys('anastasiaozerova36@gmail.com ')\n",
    "inputElement = driver.find_element_by_xpath(\"/html/body/center/table/tbody/tr/td/div[2]/form/table/tbody/tr[2]/td[2]/input\")\n",
    "inputElement.send_keys('E2VWnyMqf')\n",
    "inputElement.submit()"
   ]
  },
  {
   "cell_type": "code",
   "execution_count": 6,
   "metadata": {},
   "outputs": [
    {
     "name": "stdout",
     "output_type": "stream",
     "text": [
      "(13539, 4)\n"
     ]
    },
    {
     "data": {
      "text/html": [
       "<div>\n",
       "<style scoped>\n",
       "    .dataframe tbody tr th:only-of-type {\n",
       "        vertical-align: middle;\n",
       "    }\n",
       "\n",
       "    .dataframe tbody tr th {\n",
       "        vertical-align: top;\n",
       "    }\n",
       "\n",
       "    .dataframe thead th {\n",
       "        text-align: right;\n",
       "    }\n",
       "</style>\n",
       "<table border=\"1\" class=\"dataframe\">\n",
       "  <thead>\n",
       "    <tr style=\"text-align: right;\">\n",
       "      <th></th>\n",
       "      <th>title</th>\n",
       "      <th>id</th>\n",
       "      <th>category</th>\n",
       "      <th>impactFactor</th>\n",
       "    </tr>\n",
       "  </thead>\n",
       "  <tbody>\n",
       "    <tr>\n",
       "      <th>0</th>\n",
       "      <td>IRANIAN JOURNAL OF NEONATOLOGY</td>\n",
       "      <td>NaN</td>\n",
       "      <td>NaN</td>\n",
       "      <td>NaN</td>\n",
       "    </tr>\n",
       "    <tr>\n",
       "      <th>1</th>\n",
       "      <td>IRANIAN JOURNAL OF CHILD NEUROLOGY</td>\n",
       "      <td>NaN</td>\n",
       "      <td>NaN</td>\n",
       "      <td>NaN</td>\n",
       "    </tr>\n",
       "    <tr>\n",
       "      <th>2</th>\n",
       "      <td>CANADIAN JOURNAL FOR THE STUDY OF ADULT EDUCATION</td>\n",
       "      <td>NaN</td>\n",
       "      <td>NaN</td>\n",
       "      <td>NaN</td>\n",
       "    </tr>\n",
       "    <tr>\n",
       "      <th>3</th>\n",
       "      <td>JOURNAL OF JAPANESE STUDIES</td>\n",
       "      <td>NaN</td>\n",
       "      <td>NaN</td>\n",
       "      <td>NaN</td>\n",
       "    </tr>\n",
       "    <tr>\n",
       "      <th>4</th>\n",
       "      <td>JOURNAL OF PERINATAL EDUCATION</td>\n",
       "      <td>NaN</td>\n",
       "      <td>NaN</td>\n",
       "      <td>NaN</td>\n",
       "    </tr>\n",
       "  </tbody>\n",
       "</table>\n",
       "</div>"
      ],
      "text/plain": [
       "                                               title  id  category  \\\n",
       "0                     IRANIAN JOURNAL OF NEONATOLOGY NaN       NaN   \n",
       "1                 IRANIAN JOURNAL OF CHILD NEUROLOGY NaN       NaN   \n",
       "2  CANADIAN JOURNAL FOR THE STUDY OF ADULT EDUCATION NaN       NaN   \n",
       "3                        JOURNAL OF JAPANESE STUDIES NaN       NaN   \n",
       "4                     JOURNAL OF PERINATAL EDUCATION NaN       NaN   \n",
       "\n",
       "   impactFactor  \n",
       "0           NaN  \n",
       "1           NaN  \n",
       "2           NaN  \n",
       "3           NaN  \n",
       "4           NaN  "
      ]
     },
     "execution_count": 6,
     "metadata": {},
     "output_type": "execute_result"
    }
   ],
   "source": [
    "data = pd.read_csv('journals.txt', header = None, sep='\\t', names=['title', 'id', 'category', 'impactFactor'])\n",
    "print(data.shape)\n",
    "data.head()"
   ]
  },
  {
   "cell_type": "code",
   "execution_count": 7,
   "metadata": {},
   "outputs": [],
   "source": [
    "def journalLoader(driver, journal_name,):\n",
    "    \n",
    "    driver.switch_to.window(driver.window_handles[0])\n",
    "    driver.refresh()\n",
    "    search = driver.find_element_by_xpath('//*[@id=\"search-inputEl\"]').clear()\n",
    "    search = driver.find_element_by_xpath('//*[@id=\"search-inputEl\"]')\n",
    "    search.send_keys(str(journal_name))\n",
    "    sleep(5)\n",
    "    search.send_keys(Keys.ENTER)\n",
    "    sleep(5)\n",
    "    driver.switch_to.window(driver.window_handles[1])\n",
    "    \n",
    "    try:\n",
    "        ISSN = driver.find_element_by_xpath('/html/body/div[2]/jif-webapp/main/home/dashboard/div[5]/div[2]/div[1]/div[1]').text\n",
    "        categories = driver.find_element_by_xpath('/html/body/div[2]/jif-webapp/main/home/dashboard/div[5]/div[2]/div[2]/div[2]/div[1]/div/div[2]').text\n",
    "\n",
    "        driver.find_element_by_xpath('/html/body/div[2]/jif-webapp/main/home/dashboard/div[5]/div[4]/div[2]/div[1]/div[3]/div[1]/div/div[1]/div[4]').click()\n",
    "        sleep(5)\n",
    "\n",
    "        index = {}\n",
    "        for i in range(1, 100):\n",
    "            try:\n",
    "                driver.find_element_by_xpath('/html/body/div[2]/jif-webapp/main/home/dashboard/div[5]/div[4]/div[2]/div[1]/div[3]/div[1]/div/div[2]/div/div[2]/div/div[1]/div[2]/div[4]/div[2]/div[1]').click()\n",
    "            except:\n",
    "                pass\n",
    "            try:\n",
    "                jcr_0 = driver.find_element_by_xpath('/html/body/div[2]/jif-webapp/main/home/dashboard/div[5]/div[4]/div[2]/div[1]/div[3]/div[1]/div/div[2]/div/div[2]/div/div[1]/div[2]/div[2]/div[1]/div['+str(i)+']/div[2]/div[1]').get_attribute(\"ymark\")\n",
    "                jcr_1 = driver.find_element_by_xpath('/html/body/div[2]/jif-webapp/main/home/dashboard/div[5]/div[4]/div[2]/div[1]/div[3]/div[1]/div/div[2]/div/div[2]/div/div[1]/div[2]/div[2]/div[1]/div['+str(i)+']/div[2]/div[2]').get_attribute(\"ymark\")\n",
    "                year = driver.find_element_by_xpath('/html/body/div[2]/jif-webapp/main/home/dashboard/div[5]/div[4]/div[2]/div[1]/div[3]/div[1]/div/div[2]/div/div[2]/div/div[1]/div[2]/div[2]/div[1]/div['+str(i)+']/div[1]').text\n",
    "                if list(jcr_0)[-1] == '%':\n",
    "                    index[year] = jcr_1\n",
    "                else:\n",
    "                    index[year] = jcr_0\n",
    "            except:\n",
    "                break\n",
    "    \n",
    "    except:\n",
    "        pass\n",
    "    \n",
    "    driver.close()\n",
    "        \n",
    "    return ISSN, categories, index"
   ]
  },
  {
   "cell_type": "code",
   "execution_count": 8,
   "metadata": {},
   "outputs": [],
   "source": [
    "for j in range(1, 100):\n",
    "    try:\n",
    "        arr = journalLoader(driver, data.loc[j, 'title'])\n",
    "        data.loc[j, 'id'] = arr[0]\n",
    "        data.loc[j, 'category'] = arr[1]  \n",
    "        data.loc[j, 'impactFactor'] = [arr[2]]\n",
    "    except:\n",
    "        pass"
   ]
  },
  {
   "cell_type": "code",
   "execution_count": 12,
   "metadata": {},
   "outputs": [
    {
     "data": {
      "text/html": [
       "<div>\n",
       "<style scoped>\n",
       "    .dataframe tbody tr th:only-of-type {\n",
       "        vertical-align: middle;\n",
       "    }\n",
       "\n",
       "    .dataframe tbody tr th {\n",
       "        vertical-align: top;\n",
       "    }\n",
       "\n",
       "    .dataframe thead th {\n",
       "        text-align: right;\n",
       "    }\n",
       "</style>\n",
       "<table border=\"1\" class=\"dataframe\">\n",
       "  <thead>\n",
       "    <tr style=\"text-align: right;\">\n",
       "      <th></th>\n",
       "      <th>title</th>\n",
       "      <th>id</th>\n",
       "      <th>category</th>\n",
       "      <th>impactFactor</th>\n",
       "    </tr>\n",
       "  </thead>\n",
       "  <tbody>\n",
       "    <tr>\n",
       "      <th>0</th>\n",
       "      <td>IRANIAN JOURNAL OF NEONATOLOGY</td>\n",
       "      <td>NaN</td>\n",
       "      <td>NaN</td>\n",
       "      <td>NaN</td>\n",
       "    </tr>\n",
       "    <tr>\n",
       "      <th>1</th>\n",
       "      <td>IRANIAN JOURNAL OF CHILD NEUROLOGY</td>\n",
       "      <td>NaN</td>\n",
       "      <td>NaN</td>\n",
       "      <td>NaN</td>\n",
       "    </tr>\n",
       "    <tr>\n",
       "      <th>2</th>\n",
       "      <td>CANADIAN JOURNAL FOR THE STUDY OF ADULT EDUCATION</td>\n",
       "      <td>NaN</td>\n",
       "      <td>NaN</td>\n",
       "      <td>NaN</td>\n",
       "    </tr>\n",
       "    <tr>\n",
       "      <th>3</th>\n",
       "      <td>JOURNAL OF JAPANESE STUDIES</td>\n",
       "      <td>NaN</td>\n",
       "      <td>NaN</td>\n",
       "      <td>NaN</td>\n",
       "    </tr>\n",
       "    <tr>\n",
       "      <th>4</th>\n",
       "      <td>JOURNAL OF PERINATAL EDUCATION</td>\n",
       "      <td>NaN</td>\n",
       "      <td>NaN</td>\n",
       "      <td>NaN</td>\n",
       "    </tr>\n",
       "  </tbody>\n",
       "</table>\n",
       "</div>"
      ],
      "text/plain": [
       "                                               title  id  category  \\\n",
       "0                     IRANIAN JOURNAL OF NEONATOLOGY NaN       NaN   \n",
       "1                 IRANIAN JOURNAL OF CHILD NEUROLOGY NaN       NaN   \n",
       "2  CANADIAN JOURNAL FOR THE STUDY OF ADULT EDUCATION NaN       NaN   \n",
       "3                        JOURNAL OF JAPANESE STUDIES NaN       NaN   \n",
       "4                     JOURNAL OF PERINATAL EDUCATION NaN       NaN   \n",
       "\n",
       "   impactFactor  \n",
       "0           NaN  \n",
       "1           NaN  \n",
       "2           NaN  \n",
       "3           NaN  \n",
       "4           NaN  "
      ]
     },
     "execution_count": 12,
     "metadata": {},
     "output_type": "execute_result"
    }
   ],
   "source": [
    "data.head(5)"
   ]
  },
  {
   "cell_type": "code",
   "execution_count": null,
   "metadata": {},
   "outputs": [],
   "source": []
  }
 ],
 "metadata": {
  "hide_input": false,
  "kernelspec": {
   "display_name": "Python 3",
   "language": "python",
   "name": "python3"
  },
  "language_info": {
   "codemirror_mode": {
    "name": "ipython",
    "version": 3
   },
   "file_extension": ".py",
   "mimetype": "text/x-python",
   "name": "python",
   "nbconvert_exporter": "python",
   "pygments_lexer": "ipython3",
   "version": "3.6.8"
  }
 },
 "nbformat": 4,
 "nbformat_minor": 2
}
